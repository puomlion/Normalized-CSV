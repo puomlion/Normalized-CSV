{
  "nbformat": 4,
  "nbformat_minor": 0,
  "metadata": {
    "colab": {
      "name": "Untitled0.ipynb",
      "provenance": [],
      "collapsed_sections": [],
      "authorship_tag": "ABX9TyM9JcgaJIPAee1IBxvlLrfg",
      "include_colab_link": true
    },
    "kernelspec": {
      "name": "python3",
      "display_name": "Python 3"
    },
    "language_info": {
      "name": "python"
    }
  },
  "cells": [
    {
      "cell_type": "markdown",
      "metadata": {
        "id": "view-in-github",
        "colab_type": "text"
      },
      "source": [
        "<a href=\"https://colab.research.google.com/github/puomlion/Normalized-CSV/blob/main/Untitled0.ipynb\" target=\"_parent\"><img src=\"https://colab.research.google.com/assets/colab-badge.svg\" alt=\"Open In Colab\"/></a>"
      ]
    },
    {
      "cell_type": "code",
      "metadata": {
        "id": "bNS-DQDXCmwc"
      },
      "source": [
        "import csv\n",
        "import torch\n",
        "import numpy as np"
      ],
      "execution_count": 1,
      "outputs": []
    },
    {
      "cell_type": "code",
      "metadata": {
        "id": "uDADNetrDNtI"
      },
      "source": [
        "data_path = \"C:\\\\Users\\\\Samuel\\\\Desktop\\\\eudata.csv\" "
      ],
      "execution_count": 2,
      "outputs": []
    },
    {
      "cell_type": "code",
      "metadata": {
        "id": "l2qNOvsGKXLn"
      },
      "source": [
        "data_numpy = np.loadtxt(data_path, dtype = np.float32, delimiter= \";\", skiprows=1)"
      ],
      "execution_count": null,
      "outputs": []
    },
    {
      "cell_type": "code",
      "metadata": {
        "id": "CPKhWGwEOjn4"
      },
      "source": [
        "print (data_numpy)"
      ],
      "execution_count": null,
      "outputs": []
    },
    {
      "cell_type": "code",
      "metadata": {
        "id": "anXA0WdUOqp8"
      },
      "source": [
        "type(data_numpy)"
      ],
      "execution_count": null,
      "outputs": []
    },
    {
      "cell_type": "code",
      "metadata": {
        "id": "vudrhFejOzPL"
      },
      "source": [
        "data_tensor = torch.from_numpy(data_numpy)"
      ],
      "execution_count": null,
      "outputs": []
    },
    {
      "cell_type": "code",
      "metadata": {
        "id": "mYTQzXJZPDvn"
      },
      "source": [
        "print(data_tensor)type(data_tensor)"
      ],
      "execution_count": null,
      "outputs": []
    },
    {
      "cell_type": "code",
      "metadata": {
        "id": "UIgFaVt2PSVJ"
      },
      "source": [
        "data_mean = torch.mean(data_tensor,dim=0)"
      ],
      "execution_count": null,
      "outputs": []
    },
    {
      "cell_type": "code",
      "metadata": {
        "id": "cj43fBq-PmBJ"
      },
      "source": [
        "print(data_mean)"
      ],
      "execution_count": null,
      "outputs": []
    },
    {
      "cell_type": "code",
      "metadata": {
        "id": "XorKb3H2PuDI"
      },
      "source": [
        "data_var = torch.var(data_tensor, dim=0)"
      ],
      "execution_count": null,
      "outputs": []
    },
    {
      "cell_type": "code",
      "metadata": {
        "id": "BnO0oahnP3H9"
      },
      "source": [
        "print(data_var)"
      ],
      "execution_count": null,
      "outputs": []
    },
    {
      "cell_type": "code",
      "metadata": {
        "id": "JzfcpkgdP9kw"
      },
      "source": [
        "print(data_tensor)"
      ],
      "execution_count": null,
      "outputs": []
    },
    {
      "cell_type": "code",
      "metadata": {
        "id": "afvpRDn_QEXM"
      },
      "source": [
        "data_normalised = (data_tensor - data_mean)/torch.sqrt(data_var)"
      ],
      "execution_count": null,
      "outputs": []
    },
    {
      "cell_type": "code",
      "metadata": {
        "id": "xsEQWmd9QjyE"
      },
      "source": [
        "print(data_normalised)"
      ],
      "execution_count": null,
      "outputs": []
    }
  ]
}